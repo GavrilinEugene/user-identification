{
 "cells": [
  {
   "cell_type": "markdown",
   "metadata": {},
   "source": [
    "# <center> Идентификация пользователей по посещенным веб-страницам\n",
    "<img src='http://i.istockimg.com/file_thumbview_approve/21546327/5/stock-illustration-21546327-identification-de-l-utilisateur.jpg'>\n",
    "\n",
    "# <center>Неделя 4.  Сравнение алгоритмов классификации\n",
    "\n",
    "Теперь мы наконец подойдем к обучению моделей классификации, сравним на кросс-валидации несколько алгоритмов, разберемся, какие параметры длины сессии (*session_length* и *window_size*) лучше использовать. Также для выбранного алгоритма построим кривые валидации (как качество классификации зависит от одного из гиперпараметров алгоритма) и кривые обучения (как качество классификации зависит от объема выборки).\n",
    "\n",
    "**План 4 недели:**\n",
    "- Часть 1. Сравнение нескольких алгоритмов на сессиях из 10 сайтов\n",
    "- Часть 2. Выбор параметров – длины сессии и ширины окна\n",
    "- Часть 3. Идентификация  конкретного пользователя и кривые обучения\n",
    " \n",
    "\n",
    "\n",
    "**В этой части проекта Вам могут быть полезны видеозаписи следующих лекций курса \"Обучение на размеченных данных\":**\n",
    "   - [Линейная классификация](https://www.coursera.org/learn/supervised-learning/lecture/jqLcO/linieinaia-klassifikatsiia)\n",
    "   - [Сравнение алгоритмов и выбор гиперпараметров](https://www.coursera.org/learn/supervised-learning/lecture/aF79U/sravnieniie-alghoritmov-i-vybor-ghipierparamietrov)\n",
    "   - [Кросс-валидация. Sklearn.cross_validation](https://www.coursera.org/learn/supervised-learning/lecture/XbHEk/kross-validatsiia-sklearn-cross-validation)\n",
    "   - [Линейные модели. Sklearn.linear_model. Классификация](https://www.coursera.org/learn/supervised-learning/lecture/EBg9t/linieinyie-modieli-sklearn-linear-model-klassifikatsiia)\n",
    "   - и многие другие\n"
   ]
  },
  {
   "cell_type": "code",
   "execution_count": 1,
   "metadata": {},
   "outputs": [
    {
     "name": "stdout",
     "output_type": "stream",
     "text": [
      "Populating the interactive namespace from numpy and matplotlib\n"
     ]
    }
   ],
   "source": [
    "# отключим всякие предупреждения Anaconda\n",
    "import warnings\n",
    "warnings.filterwarnings('ignore')\n",
    "from time import time\n",
    "import itertools\n",
    "import numpy as np\n",
    "import pandas as pd\n",
    "import seaborn as sns\n",
    "%pylab inline\n",
    "import pickle\n",
    "from scipy.sparse import csr_matrix\n",
    "from sklearn.model_selection import train_test_split, cross_val_score, StratifiedKFold, GridSearchCV\n",
    "from sklearn.metrics import accuracy_score, f1_score"
   ]
  },
  {
   "cell_type": "markdown",
   "metadata": {},
   "source": [
    "## Часть 1. Сравнение нескольких алгоритмов на сессиях из 10 сайтов"
   ]
  },
  {
   "cell_type": "markdown",
   "metadata": {},
   "source": [
    "**Загрузим сериализованные ранее объекты *X_sparse_10users* и *y_10users*, соответствующие обучающей выборке для 10 пользователей.**"
   ]
  },
  {
   "cell_type": "code",
   "execution_count": 2,
   "metadata": {
    "collapsed": true
   },
   "outputs": [],
   "source": [
    "with open('capstone_user_identification/X_sparse_10users.pkl', 'rb') as X_sparse_10users_pkl:\n",
    "    X_sparse_10users = pickle.load(X_sparse_10users_pkl)\n",
    "with open('capstone_user_identification/y_10users.pkl', 'rb') as y_10users_pkl:\n",
    "    y_10users = pickle.load(y_10users_pkl)"
   ]
  },
  {
   "cell_type": "markdown",
   "metadata": {},
   "source": [
    "**Здесь более 13 тысяч сессий и почти 5 тысяч уникальных посещенных сайтов.**"
   ]
  },
  {
   "cell_type": "code",
   "execution_count": 3,
   "metadata": {},
   "outputs": [
    {
     "data": {
      "text/plain": [
       "(13279, 4914)"
      ]
     },
     "execution_count": 3,
     "metadata": {},
     "output_type": "execute_result"
    }
   ],
   "source": [
    "X_sparse_10users.shape"
   ]
  },
  {
   "cell_type": "markdown",
   "metadata": {},
   "source": [
    "**Разобьем выборку на 2 части. На одной будем проводить кросс-валидацию, на второй – оценивать модель, обученную после кросс-валидации.**"
   ]
  },
  {
   "cell_type": "code",
   "execution_count": 4,
   "metadata": {
    "collapsed": true
   },
   "outputs": [],
   "source": [
    "X_train, X_valid, y_train, y_valid = train_test_split(X_sparse_10users, y_10users, \n",
    "                                                      test_size=0.3, \n",
    "                                                     random_state=7, stratify=y_10users)"
   ]
  },
  {
   "cell_type": "markdown",
   "metadata": {},
   "source": [
    "**Зададим заранее тип кросс-валидации: 3-кратная, с перемешиванием, параметр random_state=7 – для воспроизводимости.**"
   ]
  },
  {
   "cell_type": "code",
   "execution_count": 5,
   "metadata": {
    "collapsed": true
   },
   "outputs": [],
   "source": [
    "skf = StratifiedKFold(n_splits=3, shuffle=True, random_state=7)"
   ]
  },
  {
   "cell_type": "markdown",
   "metadata": {},
   "source": [
    "**Вспомогательная функция для отрисовки кривых валидации после запуска GridSearchCV (или RandomizedCV).**"
   ]
  },
  {
   "cell_type": "code",
   "execution_count": 6,
   "metadata": {
    "collapsed": true
   },
   "outputs": [],
   "source": [
    "def plot_validation_curves(param_values, grid_cv_results_):\n",
    "    train_mu, train_std = grid_cv_results_['mean_train_score'], grid_cv_results_['std_train_score']\n",
    "    valid_mu, valid_std = grid_cv_results_['mean_test_score'], grid_cv_results_['std_test_score']\n",
    "    train_line = plt.plot(param_values, train_mu, '-', label='train', color='green')\n",
    "    valid_line = plt.plot(param_values, valid_mu, '-', label='test', color='red')\n",
    "    plt.fill_between(param_values, train_mu - train_std, train_mu + train_std, edgecolor='none',\n",
    "                     facecolor=train_line[0].get_color(), alpha=0.2)\n",
    "    plt.fill_between(param_values, valid_mu - valid_std, valid_mu + valid_std, edgecolor='none',\n",
    "                     facecolor=valid_line[0].get_color(), alpha=0.2)\n",
    "    plt.legend()"
   ]
  },
  {
   "cell_type": "markdown",
   "metadata": {},
   "source": [
    "**1. Обучите KNeighborsClassifier со 100 ближайшими соседями (остальные параметры оставьте по умолчанию, только n_jobs=-1 для распараллеливания) и посмотрите на долю правильных ответов на 3-кратной кросс-валидации (ради воспроизводимости используйте для этого объект StratifiedKFold skf) по выборке (X_train, y_train) и отдельно на выборке (X_valid, y_valid).**"
   ]
  },
  {
   "cell_type": "code",
   "execution_count": 7,
   "metadata": {
    "collapsed": true
   },
   "outputs": [],
   "source": [
    "from sklearn.neighbors import KNeighborsClassifier"
   ]
  },
  {
   "cell_type": "code",
   "execution_count": 8,
   "metadata": {
    "collapsed": true
   },
   "outputs": [],
   "source": [
    "knn = KNeighborsClassifier(n_neighbors=100, n_jobs=-1)"
   ]
  },
  {
   "cell_type": "code",
   "execution_count": 9,
   "metadata": {},
   "outputs": [
    {
     "name": "stdout",
     "output_type": "stream",
     "text": [
      "Wall time: 5.48 s\n"
     ]
    }
   ],
   "source": [
    "%%time\n",
    "knn_cv_scores = cross_val_score(knn, X_train, y_train, cv=skf, n_jobs=-1)"
   ]
  },
  {
   "cell_type": "code",
   "execution_count": 21,
   "metadata": {},
   "outputs": [
    {
     "data": {
      "text/plain": [
       "(0.53123051143725408, 0.0010331440593672654)"
      ]
     },
     "execution_count": 21,
     "metadata": {},
     "output_type": "execute_result"
    }
   ],
   "source": [
    "knn_cv_scores.mean(), knn_cv_scores.std()"
   ]
  },
  {
   "cell_type": "code",
   "execution_count": 10,
   "metadata": {},
   "outputs": [
    {
     "data": {
      "text/plain": [
       "KNeighborsClassifier(algorithm='auto', leaf_size=30, metric='minkowski',\n",
       "           metric_params=None, n_jobs=-1, n_neighbors=100, p=2,\n",
       "           weights='uniform')"
      ]
     },
     "execution_count": 10,
     "metadata": {},
     "output_type": "execute_result"
    }
   ],
   "source": [
    "# обучение\n",
    "knn.fit(X_train, y_train)"
   ]
  },
  {
   "cell_type": "code",
   "execution_count": 14,
   "metadata": {},
   "outputs": [
    {
     "name": "stdout",
     "output_type": "stream",
     "text": [
      "0.570030120482\n",
      "Wall time: 7.69 s\n"
     ]
    }
   ],
   "source": [
    "%%time\n",
    "# валидация\n",
    "knn_valid_acc = accuracy_score(y_valid, knn.predict(X_valid))\n",
    "print(knn_valid_acc)"
   ]
  },
  {
   "cell_type": "markdown",
   "metadata": {},
   "source": [
    "**2. Обучите случайный лес (RandomForestClassifier) из 100 деревьев (для воспроизводимости random_state=7). Посмотрите на OOB-оценку (для этого надо сразу установить oob_score=True) и на долю правильных ответов на выборке (X_valid, y_valid). Для распараллеливания задайте n_jobs=-1.**"
   ]
  },
  {
   "cell_type": "code",
   "execution_count": 15,
   "metadata": {
    "collapsed": true
   },
   "outputs": [],
   "source": [
    "from sklearn.ensemble import RandomForestClassifier"
   ]
  },
  {
   "cell_type": "code",
   "execution_count": 16,
   "metadata": {
    "collapsed": true
   },
   "outputs": [],
   "source": [
    "forest = RandomForestClassifier(n_estimators=100, random_state=7, oob_score=True)"
   ]
  },
  {
   "cell_type": "code",
   "execution_count": 19,
   "metadata": {},
   "outputs": [
    {
     "name": "stdout",
     "output_type": "stream",
     "text": [
      "Wall time: 1min 30s\n"
     ]
    },
    {
     "data": {
      "text/plain": [
       "RandomForestClassifier(bootstrap=True, class_weight=None, criterion='gini',\n",
       "            max_depth=None, max_features='auto', max_leaf_nodes=None,\n",
       "            min_impurity_split=1e-07, min_samples_leaf=1,\n",
       "            min_samples_split=2, min_weight_fraction_leaf=0.0,\n",
       "            n_estimators=100, n_jobs=1, oob_score=True, random_state=7,\n",
       "            verbose=0, warm_start=False)"
      ]
     },
     "execution_count": 19,
     "metadata": {},
     "output_type": "execute_result"
    }
   ],
   "source": [
    "%%time\n",
    "# обучение\n",
    "forest.fit(X_train, y_train)"
   ]
  },
  {
   "cell_type": "code",
   "execution_count": 20,
   "metadata": {},
   "outputs": [
    {
     "data": {
      "text/plain": [
       "0.70876815492200107"
      ]
     },
     "execution_count": 20,
     "metadata": {},
     "output_type": "execute_result"
    }
   ],
   "source": [
    "# out of bag\n",
    "forest.oob_score_"
   ]
  },
  {
   "cell_type": "code",
   "execution_count": 21,
   "metadata": {},
   "outputs": [
    {
     "name": "stdout",
     "output_type": "stream",
     "text": [
      "0.72640562249\n"
     ]
    }
   ],
   "source": [
    "# валидация\n",
    "rf_valid_acc = accuracy_score(y_valid, forest.predict(X_valid))\n",
    "print(rf_valid_acc)"
   ]
  },
  {
   "cell_type": "markdown",
   "metadata": {},
   "source": [
    "**3. Обучите логистическую регрессию (LogisticRegression) с параметром C по умолчанию и random_state=7 (для воспроизводимости). Посмотрите на долю правильных ответов на кросс-валидации (используйте объект skf, созданный ранее) и на выборке (X_valid, y_valid). Для распараллеливания задайте n_jobs=-1.**"
   ]
  },
  {
   "cell_type": "code",
   "execution_count": 49,
   "metadata": {
    "collapsed": true
   },
   "outputs": [],
   "source": [
    "from sklearn.linear_model import LogisticRegression, LogisticRegressionCV"
   ]
  },
  {
   "cell_type": "code",
   "execution_count": 50,
   "metadata": {
    "collapsed": true
   },
   "outputs": [],
   "source": [
    "log_reg = LogisticRegression(random_state=7)"
   ]
  },
  {
   "cell_type": "code",
   "execution_count": 51,
   "metadata": {},
   "outputs": [
    {
     "name": "stdout",
     "output_type": "stream",
     "text": [
      "0.758046203678\n",
      "Wall time: 5.52 s\n"
     ]
    }
   ],
   "source": [
    "%%time\n",
    "log_reg_cv_scores = cross_val_score(log_reg, X_train, y_train, cv=skf, n_jobs=-1)\n",
    "print (log_reg_cv_scores.mean())"
   ]
  },
  {
   "cell_type": "code",
   "execution_count": 52,
   "metadata": {},
   "outputs": [
    {
     "data": {
      "text/plain": [
       "LogisticRegression(C=1.0, class_weight=None, dual=False, fit_intercept=True,\n",
       "          intercept_scaling=1, max_iter=100, multi_class='ovr', n_jobs=1,\n",
       "          penalty='l2', random_state=7, solver='liblinear', tol=0.0001,\n",
       "          verbose=0, warm_start=False)"
      ]
     },
     "execution_count": 52,
     "metadata": {},
     "output_type": "execute_result"
    }
   ],
   "source": [
    "log_reg.fit(X_train, y_train)"
   ]
  },
  {
   "cell_type": "code",
   "execution_count": 53,
   "metadata": {},
   "outputs": [
    {
     "data": {
      "text/plain": [
       "0.7743473895582329"
      ]
     },
     "execution_count": 53,
     "metadata": {},
     "output_type": "execute_result"
    }
   ],
   "source": [
    "#валидация\n",
    "accuracy_score(y_valid, log_reg.predict(X_valid))"
   ]
  },
  {
   "cell_type": "markdown",
   "metadata": {},
   "source": [
    "**Почитайте документацию к [LogisticRegressionCV](http://scikit-learn.org/stable/modules/generated/sklearn.linear_model.LogisticRegressionCV.html). Логистическая регрессия хорошо изучена, и для нее существуют алгоритмы быстрого подбора параметра регуляризации C (быстрее, чем с GridSearchCV).**\n",
    "\n",
    "**С помощью LogisticRegressionCV подберите параметр C для LogisticRegression сначала в широком диапазоне: 10 значений от 1e-4 до 1e4, используйте linspace из NumPy. Укажите у LogisticRegressionCV параметры multi_class='multinomial' и random_state=7. Для кросс-валидации используйте объект skf, созданный ранее. Для распараллеливания задайте n_jobs=-1.**\n",
    "\n",
    "**Нарисуйте кривые валидации по параметру С.**"
   ]
  },
  {
   "cell_type": "code",
   "execution_count": 54,
   "metadata": {},
   "outputs": [
    {
     "name": "stdout",
     "output_type": "stream",
     "text": [
      "Wall time: 33.4 s\n"
     ]
    }
   ],
   "source": [
    "%%time\n",
    "log_reg_c_values1 = np.linspace(1e-4, 1e4, 10)\n",
    "log_reg_grid_searcher1 = LogisticRegressionCV(Cs=log_reg_c_values1, cv=skf, multi_class='multinomial', random_state=7, n_jobs=-1)\n",
    "log_reg_grid_searcher1.fit(X_train, y_train)"
   ]
  },
  {
   "cell_type": "markdown",
   "metadata": {},
   "source": [
    "Средние значения доли правильных ответов на кросс-валидации по каждому из 10 параметров С."
   ]
  },
  {
   "cell_type": "code",
   "execution_count": 55,
   "metadata": {
    "collapsed": true
   },
   "outputs": [],
   "source": [
    "log_reg_mean_cv_scores1 = lg_grid_searcher1.scores_[31].mean(axis=0)"
   ]
  },
  {
   "cell_type": "code",
   "execution_count": 56,
   "metadata": {},
   "outputs": [
    {
     "data": {
      "text/plain": [
       "array([  1.00000000e-04,   1.11111120e+03,   2.22222230e+03,\n",
       "         3.33333340e+03,   4.44444450e+03,   5.55555560e+03,\n",
       "         6.66666670e+03,   7.77777780e+03,   8.88888890e+03,\n",
       "         1.00000000e+04])"
      ]
     },
     "execution_count": 56,
     "metadata": {},
     "output_type": "execute_result"
    }
   ],
   "source": [
    "log_reg_grid_searcher1.Cs_"
   ]
  },
  {
   "cell_type": "code",
   "execution_count": 57,
   "metadata": {},
   "outputs": [
    {
     "data": {
      "text/plain": [
       "array([ 0.29672472,  0.74588709,  0.74330675,  0.73975683,  0.73706599,\n",
       "        0.73469904,  0.73276251,  0.73104066,  0.72974975,  0.72802807])"
      ]
     },
     "execution_count": 57,
     "metadata": {},
     "output_type": "execute_result"
    }
   ],
   "source": [
    "log_reg_mean_cv_scores1"
   ]
  },
  {
   "cell_type": "markdown",
   "metadata": {},
   "source": [
    "Выведите лучшее значение доли правильных ответов на кросс-валидации и соответствующее значение С."
   ]
  },
  {
   "cell_type": "code",
   "execution_count": 58,
   "metadata": {},
   "outputs": [
    {
     "name": "stdout",
     "output_type": "stream",
     "text": [
      "0.745887085666 1111.1112\n"
     ]
    }
   ],
   "source": [
    "print(log_reg_mean_cv_scores1.max(), log_reg_grid_searcher1.Cs_[log_reg_mean_cv_scores1.argmax()])"
   ]
  },
  {
   "cell_type": "markdown",
   "metadata": {},
   "source": [
    "Нарисуйте график зависимости доли правильных ответов на кросс-валидации от С."
   ]
  },
  {
   "cell_type": "code",
   "execution_count": 59,
   "metadata": {},
   "outputs": [
    {
     "data": {
      "image/png": "[encoded data removed]",
      "text/plain": [
       "<matplotlib.figure.Figure at 0xdeaf436400>"
      ]
     },
     "metadata": {},
     "output_type": "display_data"
    }
   ],
   "source": [
    "plot(log_reg_c_values1, log_reg_mean_cv_scores1);"
   ]
  },
  {
   "cell_type": "markdown",
   "metadata": {},
   "source": [
    "**Теперь то же самое, только значения параметра C перебирайте в диапазоне np.linspace(1e-3, 1, 30). Опять нарисуйте кривые валидации, определите максимальное значение доли правильных ответов на кросс-валидации.**"
   ]
  },
  {
   "cell_type": "code",
   "execution_count": 60,
   "metadata": {},
   "outputs": [
    {
     "name": "stdout",
     "output_type": "stream",
     "text": [
      "Wall time: 1min 14s\n"
     ]
    }
   ],
   "source": [
    "%%time\n",
    "log_reg_c_values2 = np.linspace(1e-3, 1, 30)\n",
    "log_reg_grid_searcher2 = LogisticRegressionCV(Cs=log_reg_c_values2, cv=skf, random_state=7, n_jobs=-1, multi_class='multinomial')\n",
    "log_reg_grid_searcher2.fit(X_train, y_train)"
   ]
  },
  {
   "cell_type": "code",
   "execution_count": 61,
   "metadata": {},
   "outputs": [
    {
     "data": {
      "text/plain": [
       "array([ 0.001     ,  0.03544828,  0.06989655,  0.10434483,  0.1387931 ,\n",
       "        0.17324138,  0.20768966,  0.24213793,  0.27658621,  0.31103448,\n",
       "        0.34548276,  0.37993103,  0.41437931,  0.44882759,  0.48327586,\n",
       "        0.51772414,  0.55217241,  0.58662069,  0.62106897,  0.65551724,\n",
       "        0.68996552,  0.72441379,  0.75886207,  0.79331034,  0.82775862,\n",
       "        0.8622069 ,  0.89665517,  0.93110345,  0.96555172,  1.        ])"
      ]
     },
     "execution_count": 61,
     "metadata": {},
     "output_type": "execute_result"
    }
   ],
   "source": [
    "lg_c_values2"
   ]
  },
  {
   "cell_type": "markdown",
   "metadata": {},
   "source": [
    "Средние значения доли правильных ответов на кросс-валидации по каждому из 10 параметров С."
   ]
  },
  {
   "cell_type": "code",
   "execution_count": 64,
   "metadata": {
    "collapsed": true
   },
   "outputs": [],
   "source": [
    "log_reg_mean_cv_scores2 = log_reg_grid_searcher2.scores_[31].mean(axis=0)"
   ]
  },
  {
   "cell_type": "code",
   "execution_count": 65,
   "metadata": {},
   "outputs": [
    {
     "data": {
      "text/plain": [
       "array([ 0.49015249,  0.6945673 ,  0.71823569,  0.7273811 ,  0.73308291,\n",
       "        0.73727938,  0.74007758,  0.74330588,  0.7448122 ,  0.74631844,\n",
       "        0.74804023,  0.74836274,  0.74857828,  0.74922323,  0.74943888,\n",
       "        0.74976146,  0.75051408,  0.7509446 ,  0.75148269,  0.75223597,\n",
       "        0.75255837,  0.7527736 ,  0.75223531,  0.75277336,  0.75363375,\n",
       "        0.75384859,  0.75427894,  0.75427891,  0.75460142,  0.75417145])"
      ]
     },
     "execution_count": 65,
     "metadata": {},
     "output_type": "execute_result"
    }
   ],
   "source": [
    "log_reg_mean_cv_scores2"
   ]
  },
  {
   "cell_type": "markdown",
   "metadata": {},
   "source": [
    "Выведите лучшее значение доли правильных ответов на кросс-валидации и соответствующее значение С."
   ]
  },
  {
   "cell_type": "code",
   "execution_count": 68,
   "metadata": {},
   "outputs": [
    {
     "name": "stdout",
     "output_type": "stream",
     "text": [
      "0.754601419039 0.965551724138\n"
     ]
    }
   ],
   "source": [
    "print(log_reg_mean_cv_scores2.max(), log_reg_grid_searcher2.Cs_[log_reg_mean_cv_scores2.argmax()])"
   ]
  },
  {
   "cell_type": "markdown",
   "metadata": {},
   "source": [
    "Нарисуйте график зависимости доли правильных ответов на кросс-валидации от С."
   ]
  },
  {
   "cell_type": "code",
   "execution_count": 69,
   "metadata": {},
   "outputs": [
    {
     "data": {
      "image/png": "[encoded data removed]",
      "text/plain": [
       "<matplotlib.figure.Figure at 0xdeaf405828>"
      ]
     },
     "metadata": {},
     "output_type": "display_data"
    }
   ],
   "source": [
    "plot(log_reg_c_values2, log_reg_mean_cv_scores2);"
   ]
  },
  {
   "cell_type": "markdown",
   "metadata": {},
   "source": [
    "Выведите долю правильных ответов на выборке (X_valid, y_valid) для логистической регрессии с лучшим найденным значением C."
   ]
  },
  {
   "cell_type": "code",
   "execution_count": 70,
   "metadata": {
    "collapsed": true
   },
   "outputs": [],
   "source": [
    "log_reg_cv_accuracy = accuracy_score(y_valid, log_reg_grid_searcher2.predict(X_valid))"
   ]
  },
  {
   "cell_type": "code",
   "execution_count": 71,
   "metadata": {},
   "outputs": [
    {
     "data": {
      "text/plain": [
       "0.77409638554216864"
      ]
     },
     "execution_count": 71,
     "metadata": {},
     "output_type": "execute_result"
    }
   ],
   "source": [
    "log_reg_cv_accuracy"
   ]
  },
  {
   "cell_type": "markdown",
   "metadata": {},
   "source": [
    "**4. Обучите линейный SVM (LinearSVC) с параметром C=1 и random_state=7 (для воспроизводимости). Посмотрите на долю правильных ответов на кросс-валидации (используйте объект skf, созданный ранее) и на выборке (X_valid, y_valid).**"
   ]
  },
  {
   "cell_type": "code",
   "execution_count": 72,
   "metadata": {
    "collapsed": true
   },
   "outputs": [],
   "source": [
    "from sklearn.svm import LinearSVC"
   ]
  },
  {
   "cell_type": "code",
   "execution_count": 73,
   "metadata": {
    "collapsed": true
   },
   "outputs": [],
   "source": [
    "svm = LinearSVC(C=1, random_state=7)"
   ]
  },
  {
   "cell_type": "code",
   "execution_count": 75,
   "metadata": {},
   "outputs": [
    {
     "name": "stdout",
     "output_type": "stream",
     "text": [
      "0.748038040809\n",
      "Wall time: 9.7 s\n"
     ]
    }
   ],
   "source": [
    "%%time\n",
    "svm_cv_scores = cross_val_score(svm, X_train, y_train, cv=skf, n_jobs=-1)\n",
    "print (svm_cv_scores.mean())"
   ]
  },
  {
   "cell_type": "code",
   "execution_count": 76,
   "metadata": {},
   "outputs": [
    {
     "name": "stdout",
     "output_type": "stream",
     "text": [
      "Wall time: 8.62 s\n"
     ]
    },
    {
     "data": {
      "text/plain": [
       "LinearSVC(C=1, class_weight=None, dual=True, fit_intercept=True,\n",
       "     intercept_scaling=1, loss='squared_hinge', max_iter=1000,\n",
       "     multi_class='ovr', penalty='l2', random_state=7, tol=0.0001,\n",
       "     verbose=0)"
      ]
     },
     "execution_count": 76,
     "metadata": {},
     "output_type": "execute_result"
    }
   ],
   "source": [
    "%%time\n",
    "svm.fit(X_train, y_train)"
   ]
  },
  {
   "cell_type": "code",
   "execution_count": 77,
   "metadata": {},
   "outputs": [
    {
     "data": {
      "text/plain": [
       "0.76506024096385539"
      ]
     },
     "execution_count": 77,
     "metadata": {},
     "output_type": "execute_result"
    }
   ],
   "source": [
    "accuracy_score(y_valid, svm.predict(X_valid))"
   ]
  },
  {
   "cell_type": "markdown",
   "metadata": {},
   "source": [
    "**С помощью GridSearchCV подберите параметр C для SVM сначала в широком диапазоне: 10 значений от 1e-4 до 1e4, используйте linspace из NumPy. Нарисуйте кривые валидации.**"
   ]
  },
  {
   "cell_type": "code",
   "execution_count": 78,
   "metadata": {},
   "outputs": [
    {
     "name": "stdout",
     "output_type": "stream",
     "text": [
      "Wall time: 56 s\n"
     ]
    }
   ],
   "source": [
    "%%time\n",
    "svm_params1 = {'C': np.linspace(1e-4, 1e4, 10)}\n",
    "\n",
    "svm_grid_searcher1 = GridSearchCV(svm, param_grid=svm_params1, cv=skf, n_jobs=-1)\n",
    "svm_grid_searcher1.fit(X_train, y_train)"
   ]
  },
  {
   "cell_type": "markdown",
   "metadata": {},
   "source": [
    "Выведите лучшее значение доли правильных ответов на кросс-валидации и соответствующее значение С."
   ]
  },
  {
   "cell_type": "code",
   "execution_count": 79,
   "metadata": {},
   "outputs": [
    {
     "name": "stdout",
     "output_type": "stream",
     "text": [
      "0.68187197418 {'C': 8888.8888999999999}\n"
     ]
    }
   ],
   "source": [
    "print(svm_grid_searcher1.best_score_, svm_grid_searcher1.best_params_)"
   ]
  },
  {
   "cell_type": "markdown",
   "metadata": {},
   "source": [
    "Нарисуйте график зависимости доли правильных ответов на кросс-валидации от С."
   ]
  },
  {
   "cell_type": "code",
   "execution_count": 80,
   "metadata": {},
   "outputs": [
    {
     "data": {
      "image/png": "[encoded data removed]",
      "text/plain": [
       "<matplotlib.figure.Figure at 0xdeaf6bc048>"
      ]
     },
     "metadata": {},
     "output_type": "display_data"
    }
   ],
   "source": [
    "plot_validation_curves(svm_params1['C'], svm_grid_searcher1.cv_results_)"
   ]
  },
  {
   "cell_type": "markdown",
   "metadata": {},
   "source": [
    "**Но мы помним, что с параметром регуляризации по умолчанию (С=1) на кросс-валидации доля правильных ответов выше. Это тот случай (не редкий), когда можно ошибиться и перебирать параметры не в том диапазоне (причина в том, что мы взяли равномерную сетку на большом интервале и упустили действительно хороший интервал значений C). Здесь намного осмысленней подбирать C в районе 1, к тому же, так модель быстрее обучается, чем при больших C. **\n",
    "\n",
    "**С помощью GridSearchCV подберите параметр C для SVM в диапазоне (1e-3, 1), 30 значений, используйте linspace из NumPy. Нарисуйте кривые валидации.**"
   ]
  },
  {
   "cell_type": "code",
   "execution_count": 81,
   "metadata": {},
   "outputs": [
    {
     "name": "stdout",
     "output_type": "stream",
     "text": [
      "Wall time: 1min 25s\n"
     ]
    }
   ],
   "source": [
    "%%time\n",
    "svm_params2 = {'C': np.linspace(1e-3, 1, 30)}\n",
    "\n",
    "svm_grid_searcher2 = GridSearchCV(svm, param_grid=svm_params2, cv=skf, n_jobs=-1)\n",
    "svm_grid_searcher2.fit(X_train, y_train)"
   ]
  },
  {
   "cell_type": "markdown",
   "metadata": {},
   "source": [
    "Выведите лучшее значение доли правильных ответов на кросс-валидации и соответствующее значение С."
   ]
  },
  {
   "cell_type": "code",
   "execution_count": 82,
   "metadata": {},
   "outputs": [
    {
     "name": "stdout",
     "output_type": "stream",
     "text": [
      "0.761699838623 {'C': 0.17324137931034483}\n"
     ]
    }
   ],
   "source": [
    "print(svm_grid_searcher2.best_score_, svm_grid_searcher2.best_params_)"
   ]
  },
  {
   "cell_type": "markdown",
   "metadata": {},
   "source": [
    "Нарисуйте график зависимости доли правильных ответов на кросс-валидации от С."
   ]
  },
  {
   "cell_type": "code",
   "execution_count": 83,
   "metadata": {},
   "outputs": [
    {
     "data": {
      "image/png": "[encoded data removed]",
      "text/plain": [
       "<matplotlib.figure.Figure at 0xdeaf496278>"
      ]
     },
     "metadata": {},
     "output_type": "display_data"
    }
   ],
   "source": [
    "plot_validation_curves(svm_params2['C'], svm_grid_searcher2.cv_results_)"
   ]
  },
  {
   "cell_type": "markdown",
   "metadata": {},
   "source": [
    "Выведите долю правильных ответов на выборке (X_valid, y_valid) для LinearSVC с лучшим найденным значением C."
   ]
  },
  {
   "cell_type": "code",
   "execution_count": 86,
   "metadata": {},
   "outputs": [
    {
     "name": "stdout",
     "output_type": "stream",
     "text": [
      "0.776857429719\n"
     ]
    }
   ],
   "source": [
    "print(accuracy_score(y_valid, svm_grid_searcher2.predict(X_valid)))"
   ]
  },
  {
   "cell_type": "markdown",
   "metadata": {},
   "source": [
    "## Часть 2. Выбор параметров – длины сессии и ширины окна"
   ]
  },
  {
   "cell_type": "markdown",
   "metadata": {},
   "source": [
    "**Возьмем LinearSVC, показавший лучшее качество на кросс-валидации в 1 части и проверим его работу еще на 8 выборках для 10 пользователей (с разными сочетаниями параметров *session_length* и *window_size*). Поскольку тут уже вычислений побольше, мы не будем каждый раз заново подбирать параметр регуляризации C.**\n",
    "\n",
    "**Определите функцию model_assessment, ее документация описана ниже. Обратите внимание на все детали. Например, на то, что разбиение  выборки с train_test_split должно быть стратифицированным. Не теряйте нигде random_state.**"
   ]
  },
  {
   "cell_type": "code",
   "execution_count": 84,
   "metadata": {
    "collapsed": true
   },
   "outputs": [],
   "source": [
    "def model_assessment(estimator, path_to_X_pickle, path_to_y_pickle, cv, \n",
    "                     random_state=7, test_size=0.3):\n",
    "    '''\n",
    "    Estimates CV-accuracy for (1 - test_size) share of (X_sparse, y) \n",
    "    loaded from path_to_X_pickle and path_to_y_pickle and holdout accuracy for (test_size) share of (X_sparse, y).\n",
    "    The split is made with stratified train_test_split with params random_state and test_size.\n",
    "    \n",
    "    :param estimator – Scikit-learn estimator (classifier or regressor)\n",
    "    :param path_to_X_pickle – path to pickled sparse X (instances and their features)\n",
    "    :param path_to_y_pickle – path to pickled y (responses)\n",
    "    :param cv – cross-validation as in cross_val_score (use StratifiedKFold here)\n",
    "    :param random_state –  for train_test_split\n",
    "    :param test_size –  for train_test_split\n",
    "    \n",
    "    :returns mean CV-accuracy for (X_train, y_train) and accuracy for (X_valid, y_valid) where (X_train, y_train)\n",
    "    and (X_valid, y_valid) are (1 - test_size) and (testsize) shares of (X_sparse, y).\n",
    "    '''\n",
    "    t_start = time()\n",
    "    # Loading data\n",
    "    with open(path_to_X_pickle, 'rb') as fid:\n",
    "        X_sparse = pickle.load(fid)\n",
    "    with open(path_to_y_pickle, 'rb') as fid:\n",
    "        y = pickle.load(fid)\n",
    "    #print(X_sparse.shape)\n",
    "    # Spliting on train and validation\n",
    "    X_train, X_valid, y_train, y_valid = train_test_split(X_sparse, y, \n",
    "                                                          test_size=test_size, \n",
    "                                                          random_state=random_state,\n",
    "                                                          stratify=y)\n",
    "    \n",
    "    # Cross_validation extimation\n",
    "    scores = cross_val_score(estimator, X_train, y_train, cv=cv, n_jobs=-1)\n",
    "    # Model fitting\n",
    "    estimator.fit(X_train, y_train)\n",
    "    # Accuracy score on validation set\n",
    "    acc_score = accuracy_score(y_valid, estimator.predict(X_valid))\n",
    "    \n",
    "    return scores.mean(), acc_score, time() - t_start"
   ]
  },
  {
   "cell_type": "markdown",
   "metadata": {},
   "source": [
    "**Убедитесь, что функция работает.**"
   ]
  },
  {
   "cell_type": "code",
   "execution_count": 85,
   "metadata": {},
   "outputs": [
    {
     "data": {
      "text/plain": [
       "(0.76170225920001722, 0.7768574297188755, 9.160332202911377)"
      ]
     },
     "execution_count": 85,
     "metadata": {},
     "output_type": "execute_result"
    }
   ],
   "source": [
    "model_assessment(svm_grid_searcher2.best_estimator_, \n",
    "                 'capstone_user_identification/X_sparse_10users.pkl',\n",
    "                 'capstone_user_identification/y_10users.pkl', skf, random_state=7, test_size=0.3)"
   ]
  },
  {
   "cell_type": "markdown",
   "metadata": {},
   "source": [
    "**Примените функцию *model_assessment* для лучшего алгоритма из предыдущей части (а именно, svm\\_grid\\_searcher2.best\\_estimator\\_) и 9 выборок вида с разными сочетаниями параметров *session_length* и *window_size* для 10 пользователей. Выведите в цикле параметры *session_length* и *window_size*, а также результат вывода функции *model_assessment*. \n",
    "Удобно сделать так, чтоб *model_assessment* возвращала 3-им элементом время, за которое она выполнилась. На моем скромном маке этот участок кода выполнился за 20 секунд. Но со 150 пользователями каждая итерация занимает уже несколько минут.**"
   ]
  },
  {
   "cell_type": "code",
   "execution_count": 88,
   "metadata": {},
   "outputs": [
    {
     "name": "stdout",
     "output_type": "stream",
     "text": [
      "Session length: 15, Window size: 10\n",
      "(0.8261820838640247, 0.8321934538348803, 18.725696325302124)\n",
      "Session length: 15, Window size: 7\n",
      "(0.84541720785789842, 0.86361296963458567, 18.582615613937378)\n",
      "Session length: 10, Window size: 7\n",
      "(0.78600824439944528, 0.8137393767705382, 9.89859914779663)\n",
      "Session length: 7, Window size: 7\n",
      "(0.734671855980911, 0.75620518477661336, 7.300518035888672)\n",
      "Session length: 15, Window size: 5\n",
      "(0.866699991019518, 0.87938461538461543, 23.59575319290161)\n",
      "Session length: 10, Window size: 5\n",
      "(0.8145056225811621, 0.8294731483838127, 15.41455340385437)\n",
      "Session length: 7, Window size: 5\n",
      "(0.76452606616112406, 0.7844200502579024, 10.066450357437134)\n",
      "Session length: 5, Window size: 5\n",
      "(0.70653074906085367, 0.71304833752444818, 8.2646164894104)\n",
      "Wall time: 1min 51s\n"
     ]
    }
   ],
   "source": [
    "%%time\n",
    "estimator = svm_grid_searcher2.best_estimator_\n",
    "\n",
    "for window_size, session_length in itertools.product([10, 7, 5], [15, 10, 7, 5]):\n",
    "    if window_size <= session_length and (window_size, session_length) != (10, 10):\n",
    "        path_to_X_pkl = 'capstone_user_identification/X_sparse_10users_s' + \\\n",
    "                        str(session_length) + '_w' + str(window_size) + '.pkl'\n",
    "        path_to_y_pkl = 'capstone_user_identification/y_10users_s' + \\\n",
    "                        str(session_length) + '_w' + str(window_size) + '.pkl'\n",
    "        print(\"Session length: {}, Window size: {}\".format(session_length, window_size))\n",
    "        print(model_assessment(estimator, path_to_X_pkl, path_to_y_pkl, skf, random_state=7, test_size=0.3))"
   ]
  },
  {
   "cell_type": "code",
   "execution_count": 89,
   "metadata": {
    "collapsed": true
   },
   "outputs": [],
   "source": [
    "cv_score, accur_score, _ = model_assessment(svm_grid_searcher2.best_estimator_, \n",
    "                                     'capstone_user_identification/X_sparse_10users_s15_w5.pkl',\n",
    "                                     'capstone_user_identification/y_10users_s15_w5.pkl', skf, random_state=7, test_size=0.3)"
   ]
  },
  {
   "cell_type": "code",
   "execution_count": 90,
   "metadata": {},
   "outputs": [
    {
     "name": "stdout",
     "output_type": "stream",
     "text": [
      "0.86669999102 0.879384615385\n"
     ]
    }
   ],
   "source": [
    "print(cv_score, accur_score)"
   ]
  },
  {
   "cell_type": "markdown",
   "metadata": {},
   "source": [
    "## Часть 3. Идентификация  конкретного пользователя и кривые обучения"
   ]
  },
  {
   "cell_type": "markdown",
   "metadata": {},
   "source": [
    "**Поскольку может разочаровать, что многоклассовая доля правильных ответов на выборке из 150 пользовалей невелика, порадуемся тому, что конкретного пользователя можно идентифицировать достаточно хорошо. **"
   ]
  },
  {
   "cell_type": "markdown",
   "metadata": {},
   "source": [
    "**Загрузим сериализованные ранее объекты *X_sparse_150users* и *y_150users*, соответствующие обучающей выборке для 10 пользователей с параметрами (*session_length, window_size*) = (10,10). Так же точно разобьем их на 70% и 30%.**"
   ]
  },
  {
   "cell_type": "code",
   "execution_count": 92,
   "metadata": {
    "collapsed": true
   },
   "outputs": [],
   "source": [
    "with open('capstone_user_identification/X_sparse_150users.pkl', 'rb') as X_sparse_150users_pkl:\n",
    "     X_sparse_150users = pickle.load(X_sparse_150users_pkl)\n",
    "with open('capstone_user_identification/y_150users.pkl', 'rb') as y_150users_pkl:\n",
    "    y_150users = pickle.load(y_150users_pkl)"
   ]
  },
  {
   "cell_type": "code",
   "execution_count": 93,
   "metadata": {
    "collapsed": true
   },
   "outputs": [],
   "source": [
    "X_train_150, X_valid_150, y_train_150, y_valid_150 = train_test_split(X_sparse_150users, \n",
    "                                                                      y_150users, test_size=0.3, \n",
    "                                                                      random_state=7, stratify=y_150users)"
   ]
  },
  {
   "cell_type": "markdown",
   "metadata": {},
   "source": [
    "**Обучите LogisticRegressionCV для одного значения параметра C (лучшего на кросс-валидации в 1 части, используйте точное значение, не на глаз). Теперь будем решать 150 задач \"Один-против-Всех\", поэтому укажите аргумент multi_class='ovr'. Как всегда, где возможно, указывайте n_jobs=-1 и random_state=7.**"
   ]
  },
  {
   "cell_type": "code",
   "execution_count": 95,
   "metadata": {},
   "outputs": [
    {
     "data": {
      "text/plain": [
       "0.965551724137931"
      ]
     },
     "execution_count": 95,
     "metadata": {},
     "output_type": "execute_result"
    }
   ],
   "source": [
    "C_opt = log_reg_grid_searcher2.Cs_[log_reg_mean_cv_scores2.argmax()]\n",
    "C_opt2 = log_reg_grid_searcher2.Cs_[log_reg_mean_cv_scores2.argmax()]\n",
    "C_opt"
   ]
  },
  {
   "cell_type": "code",
   "execution_count": 96,
   "metadata": {},
   "outputs": [
    {
     "name": "stdout",
     "output_type": "stream",
     "text": [
      "Wall time: 10min 33s\n"
     ]
    }
   ],
   "source": [
    "%%time\n",
    "log_reg_cv_150users = LogisticRegressionCV(Cs=[C_opt], cv=skf, random_state=7, n_jobs=-1, multi_class='ovr')\n",
    "log_reg_cv_150users.fit(X_train_150, y_train_150)"
   ]
  },
  {
   "cell_type": "markdown",
   "metadata": {},
   "source": [
    "**Посмотрите на средние доли правильных ответов на кросс-валидации в задаче идентификации каждого пользователя по отдельности.**"
   ]
  },
  {
   "cell_type": "code",
   "execution_count": 97,
   "metadata": {},
   "outputs": [
    {
     "name": "stdout",
     "output_type": "stream",
     "text": [
      "User 6, CV score: 0.9960484786573494\n",
      "User 13, CV score: 0.9962751514546545\n",
      "User 15, CV score: 0.9949471653934209\n",
      "User 16, CV score: 0.9920437096857837\n",
      "User 28, CV score: 0.9899266006347945\n",
      "User 31, CV score: 0.9944075141010331\n",
      "User 33, CV score: 0.9935977275769495\n",
      "User 39, CV score: 0.9869365887397334\n",
      "User 46, CV score: 0.997905595756198\n",
      "User 49, CV score: 0.9947741963375232\n",
      "User 50, CV score: 0.9944829626516594\n",
      "User 53, CV score: 0.9935115797290349\n",
      "User 65, CV score: 0.9968042646304868\n",
      "User 66, CV score: 0.9946989394825464\n",
      "User 82, CV score: 0.9962645119797672\n",
      "User 85, CV score: 0.9960916008684917\n",
      "User 89, CV score: 0.9904345318599098\n",
      "User 92, CV score: 0.994752881664183\n",
      "User 100, CV score: 0.9950338287515414\n",
      "User 102, CV score: 0.9910929049231599\n",
      "User 103, CV score: 0.9799725095731012\n",
      "User 105, CV score: 0.9966206725083931\n",
      "User 106, CV score: 0.9944933173664258\n",
      "User 118, CV score: 0.9906503030679509\n",
      "User 119, CV score: 0.9966312077187661\n",
      "User 120, CV score: 0.9940190417638363\n",
      "User 126, CV score: 0.9948177476561403\n",
      "User 127, CV score: 0.9914922315013253\n",
      "User 128, CV score: 0.9854033859957059\n",
      "User 138, CV score: 0.9971279795995143\n",
      "User 158, CV score: 0.9972037799981188\n",
      "User 160, CV score: 0.9966101015744545\n",
      "User 165, CV score: 0.9971498112361519\n",
      "User 172, CV score: 0.9963292215749533\n",
      "User 177, CV score: 0.9966640896512954\n",
      "User 203, CV score: 0.9973763855813079\n",
      "User 207, CV score: 0.9874004913410864\n",
      "User 223, CV score: 0.9965235246190653\n",
      "User 233, CV score: 0.9964264886843957\n",
      "User 235, CV score: 0.9967288069366252\n",
      "User 236, CV score: 0.9897108902775583\n",
      "User 237, CV score: 0.9890091198109673\n",
      "User 238, CV score: 0.9960914758360122\n",
      "User 240, CV score: 0.9955519688909781\n",
      "User 241, CV score: 0.996016093948556\n",
      "User 242, CV score: 0.9948285449808901\n",
      "User 245, CV score: 0.9959081308726953\n",
      "User 246, CV score: 0.9969230950251372\n",
      "User 249, CV score: 0.9949041189886835\n",
      "User 252, CV score: 0.9961889543806656\n",
      "User 254, CV score: 0.9919239400611302\n",
      "User 256, CV score: 0.9959945036583298\n",
      "User 258, CV score: 0.9961674789512801\n",
      "User 259, CV score: 0.9949904753656265\n",
      "User 260, CV score: 0.9973117908469625\n",
      "User 261, CV score: 0.9893981531288872\n",
      "User 263, CV score: 0.9927018216630606\n",
      "User 264, CV score: 0.9966316112743141\n",
      "User 269, CV score: 0.9869471563428022\n",
      "User 270, CV score: 0.9889553065963966\n",
      "User 273, CV score: 0.9949041547122489\n",
      "User 287, CV score: 0.9906613417391124\n",
      "User 294, CV score: 0.9958109964858765\n",
      "User 298, CV score: 0.9909525914089802\n",
      "User 301, CV score: 0.9970631744583618\n",
      "User 308, CV score: 0.9953683111341185\n",
      "User 315, CV score: 0.9974305720155385\n",
      "User 318, CV score: 0.9957895925036221\n",
      "User 327, CV score: 0.9965235574364484\n",
      "User 332, CV score: 0.9966639245359765\n",
      "User 333, CV score: 0.9960485336957889\n",
      "User 339, CV score: 0.9969553054753764\n",
      "User 340, CV score: 0.9964372681473628\n",
      "User 342, CV score: 0.9916976683378778\n",
      "User 344, CV score: 0.9966963671893921\n",
      "User 351, CV score: 0.9922050961022046\n",
      "User 356, CV score: 0.997408998134004\n",
      "User 361, CV score: 0.9964913382676613\n",
      "User 363, CV score: 0.9964481190574611\n",
      "User 411, CV score: 0.9905209418222011\n",
      "User 417, CV score: 0.9966639781213248\n",
      "User 425, CV score: 0.9942023032306043\n",
      "User 430, CV score: 0.9960809613936044\n",
      "User 435, CV score: 0.9970526454850414\n",
      "User 436, CV score: 0.9949795380527967\n",
      "User 440, CV score: 0.9970093249165092\n",
      "User 444, CV score: 0.9977111556301886\n",
      "User 475, CV score: 0.9889769673053502\n",
      "User 476, CV score: 0.996760921840898\n",
      "User 486, CV score: 0.9956924996527339\n",
      "User 515, CV score: 0.9939755498429328\n",
      "User 533, CV score: 0.9934570805012619\n",
      "User 561, CV score: 0.9866879621794936\n",
      "User 563, CV score: 0.9968582961210372\n",
      "User 564, CV score: 0.9955734935464381\n",
      "User 568, CV score: 0.9925827499219988\n",
      "User 569, CV score: 0.9898190203465166\n",
      "User 570, CV score: 0.9980673832466719\n",
      "User 573, CV score: 0.9911470348658596\n",
      "User 575, CV score: 0.9901322073706273\n",
      "User 576, CV score: 0.9941807486639439\n",
      "User 580, CV score: 0.9871304583170972\n",
      "User 583, CV score: 0.9816791761152673\n",
      "User 584, CV score: 0.9811063325783027\n",
      "User 600, CV score: 0.9921400259404928\n",
      "User 603, CV score: 0.9954978345890048\n",
      "User 605, CV score: 0.9974410536405633\n",
      "User 640, CV score: 0.997085159585588\n",
      "User 647, CV score: 0.997398194996889\n",
      "User 653, CV score: 0.9972684538697392\n",
      "User 664, CV score: 0.9951307425599141\n",
      "User 665, CV score: 0.9969880222925868\n",
      "User 677, CV score: 0.9963831830714639\n",
      "User 692, CV score: 0.9969661370706007\n",
      "User 697, CV score: 0.9957353853014262\n",
      "User 705, CV score: 0.9964911891363464\n",
      "User 722, CV score: 0.9945481998064691\n",
      "User 740, CV score: 0.9965127258412241\n",
      "User 741, CV score: 0.9968907180064875\n",
      "User 756, CV score: 0.9958758788865253\n",
      "User 780, CV score: 0.9962211407320695\n",
      "User 784, CV score: 0.9964588657030452\n",
      "User 785, CV score: 0.9969122204408909\n",
      "User 797, CV score: 0.9956924340179678\n",
      "User 812, CV score: 0.994784968535034\n",
      "User 844, CV score: 0.9969877153114091\n",
      "User 859, CV score: 0.9980028628656402\n",
      "User 868, CV score: 0.9965884026604405\n",
      "User 875, CV score: 0.995368443856742\n",
      "User 932, CV score: 0.9900778765890433\n",
      "User 996, CV score: 0.9927882823045179\n",
      "User 1014, CV score: 0.9970634741740829\n",
      "User 1040, CV score: 0.996890598786373\n",
      "User 1054, CV score: 0.9964154321514513\n",
      "User 1248, CV score: 0.9975383579266626\n",
      "User 1267, CV score: 0.997387351352247\n",
      "User 1299, CV score: 0.9968905466541159\n",
      "User 1371, CV score: 0.9930794947977288\n",
      "User 1797, CV score: 0.9945590835339505\n",
      "User 1798, CV score: 0.9962320423213336\n",
      "User 1993, CV score: 0.9967827341626615\n",
      "User 2118, CV score: 0.9976139198850381\n",
      "User 2174, CV score: 0.9954330400441785\n",
      "User 2191, CV score: 0.9951201194937184\n",
      "User 2250, CV score: 0.9972900827897133\n",
      "User 2355, CV score: 0.9955952117753263\n",
      "User 2408, CV score: 0.9932955358102906\n",
      "User 2493, CV score: 0.9962861037230847\n",
      "User 2625, CV score: 0.995692493840369\n",
      "User 2902, CV score: 0.9967287668537859\n"
     ]
    }
   ],
   "source": [
    "cv_scores_by_user = log_reg_cv_150users.scores_\n",
    "for user_id in log_reg_cv_150users.scores_:\n",
    "    print('User {}, CV score: {}'.format(user_id, cv_scores_by_user[user_id].mean()))"
   ]
  },
  {
   "cell_type": "markdown",
   "metadata": {},
   "source": [
    "**Результаты кажутся впечатляющими, но возможно, мы забываем про дисбаланс классов, и высокую долю правильных ответов можно получить константным прогнозом. Посчитайте для каждого пользователя разницу между долей правильных ответов на кросс-валидации (только что посчитанную с помощью LogisticRegressionCV) и долей меток в *y_train_150*, отличных от ID \n",
    " этого пользователя (именно такую долю правильных ответов можно получить, если классификатор всегда \"говорит\", что это не пользователь с номером $i$ в задаче классификации $i$-vs-All).**"
   ]
  },
  {
   "cell_type": "code",
   "execution_count": 100,
   "metadata": {},
   "outputs": [
    {
     "data": {
      "text/plain": [
       "(2903,)"
      ]
     },
     "execution_count": 100,
     "metadata": {},
     "output_type": "execute_result"
    }
   ],
   "source": [
    "class_distr = np.bincount(y_train_150.astype('int'))\n",
    "np.bincount(y_train_150.astype('int')).shape"
   ]
  },
  {
   "cell_type": "code",
   "execution_count": 101,
   "metadata": {},
   "outputs": [
    {
     "data": {
      "text/plain": [
       "0.9870228018656072"
      ]
     },
     "execution_count": 101,
     "metadata": {},
     "output_type": "execute_result"
    }
   ],
   "source": [
    "# для примера\n",
    "(class_distr.sum() - class_distr[6])/class_distr.sum()"
   ]
  },
  {
   "cell_type": "code",
   "execution_count": 102,
   "metadata": {},
   "outputs": [
    {
     "data": {
      "text/plain": [
       "1708"
      ]
     },
     "execution_count": 102,
     "metadata": {},
     "output_type": "execute_result"
    }
   ],
   "source": [
    "class_distr[128]"
   ]
  },
  {
   "cell_type": "code",
   "execution_count": 103,
   "metadata": {},
   "outputs": [
    {
     "name": "stdout",
     "output_type": "stream",
     "text": [
      "0.987022801866\n",
      "User: 6 difference: 0.009025676791742154\n",
      "0.99556270513\n",
      "User: 13 difference: 0.0007124463242347279\n",
      "0.994267144585\n",
      "User: 15 difference: 0.0006800208088639792\n",
      "0.984258939368\n",
      "User: 16 difference: 0.007784770318017276\n",
      "0.987616600449\n",
      "User: 28 difference: 0.0023100001856668495\n",
      "0.994299533598\n",
      "User: 31 difference: 0.00010798050282967431\n",
      "0.992410174469\n",
      "User: 33 difference: 0.0011875531081293467\n",
      "0.984906719641\n",
      "User: 39 difference: 0.002029869099035575\n",
      "0.997020210745\n",
      "User: 46 difference: 0.0008853850116825601\n",
      "0.993684142339\n",
      "User: 49 difference: 0.0010900539986045121\n",
      "0.994321126274\n",
      "User: 50 difference: 0.0001618363776915155\n",
      "0.991902746588\n",
      "User: 53 difference: 0.0016088331406777234\n",
      "0.996815080325\n",
      "User: 65 difference: -1.0815694267085618e-05\n",
      "0.994688201762\n",
      "User: 66 difference: 1.0737720584019783e-05\n",
      "0.996232078079\n",
      "User: 82 difference: 3.243390065166274e-05\n",
      "0.996059336673\n",
      "User: 85 difference: 3.226419549118287e-05\n",
      "0.989819053377\n",
      "User: 89 difference: 0.0006154784828152904\n",
      "0.99449386768\n",
      "User: 92 difference: 0.0002590139840999983\n",
      "0.995001295561\n",
      "User: 100 difference: 3.253319099560947e-05\n",
      "0.99026170323\n",
      "User: 102 difference: 0.0008312016928956334\n",
      "0.976302038349\n",
      "User: 103 difference: 0.003670471224509031\n",
      "0.995875798929\n",
      "User: 105 difference: 0.0007448735793899042\n",
      "0.986893245811\n",
      "User: 106 difference: 0.007600071555404875\n",
      "0.989883831404\n",
      "User: 118 difference: 0.0007664716635632507\n",
      "0.99582181724\n",
      "User: 119 difference: 0.0008093904791738327\n",
      "0.993468215581\n",
      "User: 120 difference: 0.0005508261825614147\n",
      "0.994094403178\n",
      "User: 126 difference: 0.0007233444776983955\n",
      "0.987465451719\n",
      "User: 127 difference: 0.004026779782548284\n",
      "0.981559854897\n",
      "User: 128 difference: 0.0038435310984870075\n",
      "0.997020210745\n",
      "User: 138 difference: 0.00010776885499885758\n",
      "0.99673950596\n",
      "User: 158 difference: 0.00046427403854032434\n",
      "0.996415615823\n",
      "User: 160 difference: 0.00019448575134173307\n",
      "0.996977025393\n",
      "User: 165 difference: 0.00017278584316515744\n",
      "0.996134911038\n",
      "User: 172 difference: 0.00019431053677743115\n",
      "0.996383226809\n",
      "User: 177 difference: 0.0002808628418291548\n",
      "0.996134911038\n",
      "User: 203 difference: 0.0012414745431320595\n",
      "0.985910779064\n",
      "User: 207 difference: 0.0014897122773448457\n",
      "0.996437208499\n",
      "User: 223 difference: 8.631612018816792e-05\n",
      "0.996232078079\n",
      "User: 233 difference: 0.00019441060528013754\n",
      "0.996782691311\n",
      "User: 235 difference: -5.3884374482060515e-05\n",
      "0.988437122128\n",
      "User: 236 difference: 0.0012737681493841801\n",
      "0.987746156504\n",
      "User: 237 difference: 0.0012629633072533952\n",
      "0.996156503714\n",
      "User: 238 difference: -6.502787792805886e-05\n",
      "0.995638279496\n",
      "User: 240 difference: -8.631060461705697e-05\n",
      "0.996037743997\n",
      "User: 241 difference: -2.1650048680155187e-05\n",
      "0.994526256694\n",
      "User: 242 difference: 0.0003022882871606125\n",
      "0.995735446537\n",
      "User: 245 difference: 0.00017268433616046686\n",
      "0.997009414407\n",
      "User: 246 difference: -8.631938149605833e-05\n",
      "0.994925721195\n",
      "User: 249 difference: -2.1602206687010295e-05\n",
      "0.996167300052\n",
      "User: 252 difference: 2.165432884315699e-05\n",
      "0.989808257039\n",
      "User: 254 difference: 0.0021156830219178913\n",
      "0.995400760062\n",
      "User: 256 difference: 0.0005937435961428372\n",
      "0.996070133011\n",
      "User: 258 difference: 9.734594039734201e-05\n",
      "0.995076869926\n",
      "User: 259 difference: -8.6394560094738e-05\n",
      "0.997117377785\n",
      "User: 260 difference: 0.00019441306150735915\n",
      "0.988814993954\n",
      "User: 261 difference: 0.0005831591748364229\n",
      "0.991719208844\n",
      "User: 263 difference: 0.0009826128187006011\n",
      "0.996080929349\n",
      "User: 264 difference: 0.0005506819255491902\n",
      "0.985738037658\n",
      "User: 269 difference: 0.001209118685175592\n",
      "0.984766367248\n",
      "User: 270 difference: 0.00418893934816722\n",
      "0.994472275004\n",
      "User: 273 difference: 0.00043187970793034935\n",
      "0.988501900155\n",
      "User: 287 difference: 0.0021594415836451164\n",
      "0.99582181724\n",
      "User: 294 difference: -1.0820753715834464e-05\n",
      "0.989991794783\n",
      "User: 298 difference: 0.0009607966257706435\n",
      "0.995778631888\n",
      "User: 301 difference: 0.0012845425702981972\n",
      "0.994817757817\n",
      "User: 308 difference: 0.000550553317569924\n",
      "0.997009414407\n",
      "User: 315 difference: 0.0004211576089052649\n",
      "0.99526040767\n",
      "User: 318 difference: 0.0005291848339036287\n",
      "0.99653437554\n",
      "User: 327 difference: -1.0818103368559484e-05\n",
      "0.996707116946\n",
      "User: 332 difference: -4.319240995542817e-05\n",
      "0.995120055277\n",
      "User: 333 difference: 0.0009284784185389361\n",
      "0.995832613577\n",
      "User: 339 difference: 0.0011226918979018174\n",
      "0.996383226809\n",
      "User: 340 difference: 5.404133789654875e-05\n",
      "0.991632838141\n",
      "User: 342 difference: 6.483019657532729e-05\n",
      "0.996707116946\n",
      "User: 344 difference: -1.0749756539807365e-05\n",
      "0.990769131111\n",
      "User: 351 difference: 0.0014359649914773565\n",
      "0.997117377785\n",
      "User: 356 difference: 0.0002916203485487934\n",
      "0.996523579202\n",
      "User: 361 difference: -3.224093427334207e-05\n",
      "0.995130851615\n",
      "User: 363 difference: 0.001317267442328962\n",
      "0.988955346347\n",
      "User: 411 difference: 0.0015655954756818025\n",
      "0.996512782864\n",
      "User: 417 difference: 0.00015119525727225192\n",
      "0.994094403178\n",
      "User: 425 difference: 0.00010790005216243514\n",
      "0.995120055277\n",
      "User: 430 difference: 0.0009609061163543542\n",
      "0.997052599758\n",
      "User: 435 difference: 4.572687928305896e-08\n",
      "0.99485014683\n",
      "User: 436 difference: 0.0001293912226014715\n",
      "0.996987821731\n",
      "User: 440 difference: 2.1503185640314726e-05\n",
      "0.996901451028\n",
      "User: 444 difference: 0.0008097046023772814\n",
      "0.988545085507\n",
      "User: 475 difference: 0.0004318817983541834\n",
      "0.996080929349\n",
      "User: 476 difference: 0.0006799924921331302\n",
      "0.995314389359\n",
      "User: 486 difference: 0.00037811029360446113\n",
      "0.993889272759\n",
      "User: 515 difference: 8.627708425257286e-05\n",
      "0.992410174469\n",
      "User: 533 difference: 0.00104690603244173\n",
      "0.985219813439\n",
      "User: 561 difference: 0.0014681487402121718\n",
      "0.996836673001\n",
      "User: 563 difference: 2.162312051889881e-05\n",
      "0.995076869926\n",
      "User: 564 difference: 0.0004966236207168961\n",
      "0.992528934186\n",
      "User: 568 difference: 5.3815736474560616e-05\n",
      "0.985306184142\n",
      "User: 569 difference: 0.004512836204177639\n",
      "0.995875798929\n",
      "User: 570 difference: 0.002191584317668638\n",
      "0.991147002937\n",
      "User: 573 difference: 3.192925579487138e-08\n",
      "0.988415529452\n",
      "User: 575 difference: 0.0017166779182176128\n",
      "0.994385904301\n",
      "User: 576 difference: -0.00020515563731715591\n",
      "0.980620573501\n",
      "User: 580 difference: 0.006509884815628975\n",
      "0.967071169459\n",
      "User: 583 difference: 0.01460800665594797\n",
      "0.978148212126\n",
      "User: 584 difference: 0.00295812045185595\n",
      "0.991190188288\n",
      "User: 600 difference: 0.0009498376523601193\n",
      "0.994893332182\n",
      "User: 603 difference: 0.0006045024072808269\n",
      "0.99490412852\n",
      "User: 605 difference: 0.0025369251209571564\n",
      "0.996966229055\n",
      "User: 640 difference: 0.00011893053048350755\n",
      "0.995886595267\n",
      "User: 647 difference: 0.0015115997300034767\n",
      "0.997149766799\n",
      "User: 653 difference: 0.00011868707063744655\n",
      "0.994418293315\n",
      "User: 664 difference: 0.0007124492450064634\n",
      "0.996555968216\n",
      "User: 665 difference: 0.0004320540770055281\n",
      "0.995811020902\n",
      "User: 677 difference: 0.0005721621697537538\n",
      "0.996761098635\n",
      "User: 692 difference: 0.000205038435257765\n",
      "0.995141647953\n",
      "User: 697 difference: 0.000593737348411949\n",
      "0.996059336673\n",
      "User: 705 difference: 0.000431852463345872\n",
      "0.993468215581\n",
      "User: 722 difference: 0.001079984225194286\n",
      "0.995735446537\n",
      "User: 740 difference: 0.0007772793046892934\n",
      "0.996815080325\n",
      "User: 741 difference: 7.563768173368679e-05\n",
      "0.995465538089\n",
      "User: 756 difference: 0.00041034079704527215\n",
      "0.995638279496\n",
      "User: 780 difference: 0.0005828612364743302\n",
      "0.995335982035\n",
      "User: 784 difference: 0.0011228836681513865\n",
      "0.996955432717\n",
      "User: 785 difference: -4.321227633141689e-05\n",
      "0.995044480912\n",
      "User: 797 difference: 0.000647953105893162\n",
      "0.989171273104\n",
      "User: 812 difference: 0.005613695430870869\n",
      "0.996869062014\n",
      "User: 844 difference: 0.00011865329724425333\n",
      "0.996858265676\n",
      "User: 859 difference: 0.0011445971893576656\n",
      "0.996663931594\n",
      "User: 868 difference: -7.552893396267635e-05\n",
      "0.989808257039\n",
      "User: 875 difference: 0.005560186817529678\n",
      "0.987908101572\n",
      "User: 932 difference: 0.002169775017096587\n",
      "0.990186128865\n",
      "User: 996 difference: 0.0026021534394289336\n",
      "0.995703057523\n",
      "User: 1014 difference: 0.0013604166511946847\n",
      "0.995638279496\n",
      "User: 1040 difference: 0.001252319290777848\n",
      "0.996232078079\n",
      "User: 1054 difference: 0.00018335407233582846\n",
      "0.997236137502\n",
      "User: 1248 difference: 0.0003022204245033411\n",
      "0.99689065469\n",
      "User: 1267 difference: 0.0004966966623177749\n",
      "0.99673950596\n",
      "User: 1299 difference: 0.00015104069453741875\n",
      "0.988415529452\n",
      "User: 1371 difference: 0.004663965345319099\n",
      "0.991460096735\n",
      "User: 1797 difference: 0.0030989867987630815\n",
      "0.995282000345\n",
      "User: 1798 difference: 0.0009500419758506906\n",
      "0.995918984281\n",
      "User: 1993 difference: 0.0008637498821294498\n",
      "0.996210485403\n",
      "User: 2118 difference: 0.0014034344816868938\n",
      "0.995184833305\n",
      "User: 2174 difference: 0.00024820673963543705\n",
      "0.994655812748\n",
      "User: 2191 difference: 0.0004643067454025429\n",
      "0.997354897219\n",
      "User: 2250 difference: -6.481442915007296e-05\n",
      "0.987217135947\n",
      "User: 2355 difference: 0.00837807582783967\n",
      "0.992172655035\n",
      "User: 2408 difference: 0.001122880774878654\n",
      "0.99617809639\n",
      "User: 2493 difference: 0.00010800733338012236\n",
      "0.995357574711\n",
      "User: 2625 difference: 0.00033491912971084226\n",
      "0.994882535844\n",
      "User: 2902 difference: 0.001846231009944077\n"
     ]
    }
   ],
   "source": [
    "class_distr = np.bincount(y_train_150.astype('int'))\n",
    "acc_diff_vs_constant = []\n",
    "for user_id in np.unique(y_train_150):\n",
    "    val = (class_distr.sum() - class_distr[user_id])/class_distr.sum()\n",
    "    print(val)\n",
    "    acc_diff_vs_constant.append(cv_scores_by_user[user_id].mean() - val)\n",
    "    print(\"User: {} difference: {}\".format(user_id, cv_scores_by_user[user_id].mean() -\\\n",
    "                                           val))"
   ]
  },
  {
   "cell_type": "code",
   "execution_count": 104,
   "metadata": {},
   "outputs": [
    {
     "data": {
      "text/plain": [
       "133"
      ]
     },
     "execution_count": 104,
     "metadata": {},
     "output_type": "execute_result"
    }
   ],
   "source": [
    "better_than_default = (np.array(acc_diff_vs_constant) > 0).sum()\n",
    "better_than_default"
   ]
  },
  {
   "cell_type": "code",
   "execution_count": 107,
   "metadata": {},
   "outputs": [
    {
     "data": {
      "text/plain": [
       "0.88666666666666671"
      ]
     },
     "execution_count": 107,
     "metadata": {},
     "output_type": "execute_result"
    }
   ],
   "source": [
    "better_than_default/len(acc_diff_vs_constant)"
   ]
  },
  {
   "cell_type": "markdown",
   "metadata": {},
   "source": [
    "**Дальше будем строить кривые обучения для конткретного пользователя, допустим, для 128-го. Составьте новый бинарный вектор на основе *y_150users*, его значения будут 1 или 0 в зависимости от того, равен ли ID-шник пользователя 128.**"
   ]
  },
  {
   "cell_type": "code",
   "execution_count": 108,
   "metadata": {},
   "outputs": [
    {
     "data": {
      "text/plain": [
       "array([0, 0, 0, ..., 0, 0, 0])"
      ]
     },
     "execution_count": 108,
     "metadata": {},
     "output_type": "execute_result"
    }
   ],
   "source": [
    "y_binary_128 = y_150users == 128\n",
    "y_binary_128.astype('int')"
   ]
  },
  {
   "cell_type": "code",
   "execution_count": 109,
   "metadata": {
    "collapsed": true
   },
   "outputs": [],
   "source": [
    "from sklearn.model_selection import learning_curve\n",
    "\n",
    "def plot_learning_curve(val_train, val_test, train_sizes, \n",
    "                        xlabel='Training Set Size', ylabel='score'):\n",
    "    def plot_with_err(x, data, **kwargs):\n",
    "        mu, std = data.mean(1), data.std(1)\n",
    "        lines = plt.plot(x, mu, '-', **kwargs)\n",
    "        plt.fill_between(x, mu - std, mu + std, edgecolor='none',\n",
    "                         facecolor=lines[0].get_color(), alpha=0.2)\n",
    "    plot_with_err(train_sizes, val_train, label='train')\n",
    "    plot_with_err(train_sizes, val_test, label='valid')\n",
    "    plt.xlabel(xlabel); plt.ylabel(ylabel)\n",
    "    plt.legend(loc='lower right');"
   ]
  },
  {
   "cell_type": "markdown",
   "metadata": {},
   "source": [
    "**Посчитайте доли правильных ответов на кросс-валидации в задаче классификации \"user128-vs-All\" в зависимости от размера выборки. Не помешает посмотреть встроенную документацию для *learning_curve*.**"
   ]
  },
  {
   "cell_type": "code",
   "execution_count": 110,
   "metadata": {},
   "outputs": [
    {
     "name": "stdout",
     "output_type": "stream",
     "text": [
      "Wall time: 39.7 s\n"
     ]
    }
   ],
   "source": [
    "%%time\n",
    "train_sizes = np.linspace(0.25, 1, 20)\n",
    "estimator = svm_grid_searcher2.best_estimator_\n",
    "n_train, val_train, val_test = learning_curve(estimator, \n",
    "                                              X_sparse_150users, y_binary_128, \n",
    "                                              train_sizes=train_sizes, \n",
    "                                              cv=skf, \n",
    "                                              n_jobs=-1)"
   ]
  },
  {
   "cell_type": "code",
   "execution_count": 111,
   "metadata": {},
   "outputs": [
    {
     "data": {
      "image/png": "[encoded data removed]",
      "text/plain": [
       "<matplotlib.figure.Figure at 0xdea0a81c88>"
      ]
     },
     "metadata": {},
     "output_type": "display_data"
    }
   ],
   "source": [
    "plot_learning_curve(val_train, val_test, n_train, xlabel='train_size', ylabel='accuracy')"
   ]
  }
 ],
 "metadata": {
  "anaconda-cloud": {},
  "kernelspec": {
   "display_name": "Python 3",
   "language": "python",
   "name": "python3"
  },
  "language_info": {
   "codemirror_mode": {
    "name": "ipython",
    "version": 3
   },
   "file_extension": ".py",
   "mimetype": "text/x-python",
   "name": "python",
   "nbconvert_exporter": "python",
   "pygments_lexer": "ipython3",
   "version": "3.6.0"
  }
 },
 "nbformat": 4,
 "nbformat_minor": 1
}
